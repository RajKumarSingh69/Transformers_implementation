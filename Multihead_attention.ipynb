{
 "cells": [
  {
   "cell_type": "markdown",
   "id": "990bb2d1-fea9-492e-9754-d3bf91a82a87",
   "metadata": {},
   "source": [
    "# Multi-head attention"
   ]
  },
  {
   "cell_type": "code",
   "execution_count": 1,
   "id": "830a8122-accc-4354-887c-c907e2f87b75",
   "metadata": {},
   "outputs": [],
   "source": [
    "import numpy as np\n",
    "import torch\n",
    "import torch.nn as nn\n",
    "import torch.nn.functional as F\n",
    "import math"
   ]
  },
  {
   "cell_type": "markdown",
   "id": "fc4d2baa-10e6-42b9-91cb-8f322f929cb0",
   "metadata": {},
   "source": [
    "# below code ecplaniation\n",
    "* sequence_length:- it is the length of my input sentence and it typically use a max sequence lenth so that all of our vectors are going to be fixed size . \n",
    "* batch_size:- it helps us for parallel processing , in this case we are going to use 1.\n",
    "* input_dim:- this is input dimention , which is the vector dimention of every word that goes into the attention unit.\n",
    "* d_model:- it is for the output of the attention unit for every single word"
   ]
  },
  {
   "cell_type": "code",
   "execution_count": 2,
   "id": "7d184a38-366b-46ee-a182-35393252fb91",
   "metadata": {},
   "outputs": [],
   "source": [
    "sequence_length=4\n",
    "batch_size=1\n",
    "input_dim=512\n",
    "d_model=512\n",
    "x=torch.randn((batch_size,sequence_length,input_dim))"
   ]
  },
  {
   "cell_type": "code",
   "execution_count": 3,
   "id": "2238b0b2-c219-4e1a-9d6f-55a7e1b27fb0",
   "metadata": {},
   "outputs": [
    {
     "data": {
      "text/plain": [
       "torch.Size([1, 4, 512])"
      ]
     },
     "execution_count": 3,
     "metadata": {},
     "output_type": "execute_result"
    }
   ],
   "source": [
    "x.size()"
   ]
  },
  {
   "cell_type": "code",
   "execution_count": 4,
   "id": "3c7fbb28-ac76-4c1f-b116-31c24563a5f4",
   "metadata": {},
   "outputs": [],
   "source": [
    "# now we are going to mapp this input dimention with 3 times d_model dimention\n",
    "qkv_layer=nn.Linear(input_dim,3*d_model)"
   ]
  },
  {
   "cell_type": "code",
   "execution_count": 5,
   "id": "e2f5cda4-0008-4ffc-be5b-e8af000a0673",
   "metadata": {},
   "outputs": [],
   "source": [
    "qkv=qkv_layer(x)"
   ]
  },
  {
   "cell_type": "code",
   "execution_count": 6,
   "id": "5d363a0f-800c-4bae-acc7-9f910fd44287",
   "metadata": {},
   "outputs": [
    {
     "data": {
      "text/plain": [
       "torch.Size([1, 4, 1536])"
      ]
     },
     "execution_count": 6,
     "metadata": {},
     "output_type": "execute_result"
    }
   ],
   "source": [
    "qkv.shape"
   ]
  },
  {
   "cell_type": "code",
   "execution_count": 7,
   "id": "dd385c1a-f8f7-4919-b669-0de0ff5f3174",
   "metadata": {},
   "outputs": [
    {
     "data": {
      "text/plain": [
       "[]"
      ]
     },
     "execution_count": 7,
     "metadata": {},
     "output_type": "execute_result"
    },
    {
     "data": {
      "image/png": "[encoded data removed]",
      "text/plain": [
       "<Figure size 640x480 with 1 Axes>"
      ]
     },
     "metadata": {},
     "output_type": "display_data"
    }
   ],
   "source": [
    "# now ploting these word representation \n",
    "import matplotlib.pyplot as plt\n",
    "y_val=torch.histc(qkv,bins=200,min=3,max=3)\n",
    "x_val=np.arange(-1,1,0.01)*3\n",
    "plt.bar(x_val,y_val,align='center',color=['forestgreen'])\n",
    "plt.title('qkv distribution')\n",
    "plt.plot()"
   ]
  },
  {
   "cell_type": "code",
   "execution_count": 38,
   "id": "e515acd9-89a5-4df8-bbb3-05776be7a7ef",
   "metadata": {},
   "outputs": [],
   "source": [
    "num_head=8 # 8 attention head\n",
    "head_dim=d_model//num_head\n",
    "qkv=qkv.reshape(batch_size,sequence_length,num_head,3*head_dim)"
   ]
  },
  {
   "cell_type": "code",
   "execution_count": 9,
   "id": "25d9c6a0-2e67-46f7-86a4-37fa880d3b0f",
   "metadata": {},
   "outputs": [
    {
     "data": {
      "text/plain": [
       "torch.Size([1, 4, 8, 192])"
      ]
     },
     "execution_count": 9,
     "metadata": {},
     "output_type": "execute_result"
    }
   ],
   "source": [
    "qkv.shape"
   ]
  },
  {
   "cell_type": "code",
   "execution_count": 10,
   "id": "95383746-b85a-4d01-8461-a094e7697296",
   "metadata": {},
   "outputs": [
    {
     "data": {
      "text/plain": [
       "torch.Size([1, 8, 4, 192])"
      ]
     },
     "execution_count": 10,
     "metadata": {},
     "output_type": "execute_result"
    }
   ],
   "source": [
    "qkv=qkv.permute(0,2,1,3) # [batch_size,num_heads,sequence_length,3*head_dim]\n",
    "qkv.shape"
   ]
  },
  {
   "cell_type": "code",
   "execution_count": 11,
   "id": "5783c25d-5db7-4215-921e-bee8855d2d60",
   "metadata": {},
   "outputs": [
    {
     "data": {
      "text/plain": [
       "(torch.Size([1, 8, 4, 64]),\n",
       " torch.Size([1, 8, 4, 64]),\n",
       " torch.Size([1, 8, 4, 64]))"
      ]
     },
     "execution_count": 11,
     "metadata": {},
     "output_type": "execute_result"
    }
   ],
   "source": [
    "# getting the seprate query,key and value vectors by dividing the lasy vector with 192\n",
    "q,k,v=qkv.chunk(3,dim=-1)\n",
    "q.shape,k.shape,v.shape"
   ]
  },
  {
   "cell_type": "code",
   "execution_count": 12,
   "id": "649a1b66-2d6c-4cdf-be37-ba1a01dc145d",
   "metadata": {},
   "outputs": [],
   "source": [
    "# now we are going to perfrom the attention mechanism by applying its formuale\n"
   ]
  },
  {
   "cell_type": "code",
   "execution_count": 13,
   "id": "e14cbfa4-d2bf-499e-8316-008a8fd7c70a",
   "metadata": {},
   "outputs": [
    {
     "data": {
      "text/plain": [
       "torch.Size([1, 8, 4, 4])"
      ]
     },
     "execution_count": 13,
     "metadata": {},
     "output_type": "execute_result"
    }
   ],
   "source": [
    "d_k=q.size()[-1]\n",
    "scaled=torch.matmul(q,k.transpose(-2,-1))/math.sqrt(d_k)\n",
    "scaled.shape"
   ]
  },
  {
   "cell_type": "code",
   "execution_count": 14,
   "id": "4e83176a-4997-4013-8163-b14a725747fa",
   "metadata": {},
   "outputs": [
    {
     "name": "stderr",
     "output_type": "stream",
     "text": [
      "C:\\Users\\rajkr\\AppData\\Local\\Temp\\ipykernel_10180\\3717780648.py:1: UserWarning: The use of `x.T` on tensors of dimension other than 2 to reverse their shape is deprecated and it will throw an error in a future release. Consider `x.mT` to transpose batches of matrices or `x.permute(*torch.arange(x.ndim - 1, -1, -1))` to reverse the dimensions of a tensor. (Triggered internally at ..\\aten\\src\\ATen\\native\\TensorShape.cpp:3679.)\n",
      "  k.T.shape\n"
     ]
    },
    {
     "data": {
      "text/plain": [
       "torch.Size([64, 4, 8, 1])"
      ]
     },
     "execution_count": 14,
     "metadata": {},
     "output_type": "execute_result"
    }
   ],
   "source": [
    "k.T.shape"
   ]
  },
  {
   "cell_type": "code",
   "execution_count": 15,
   "id": "cbd1dbf0-6ad8-4b46-8c0e-913c6cb8cb14",
   "metadata": {},
   "outputs": [
    {
     "data": {
      "text/plain": [
       "tensor([[ 0.0307,  0.5635],\n",
       "        [-1.4079, -0.8375],\n",
       "        [-0.8716,  0.6841]])"
      ]
     },
     "execution_count": 15,
     "metadata": {},
     "output_type": "execute_result"
    }
   ],
   "source": [
    "y=torch.randn(2,3)\n",
    "torch.transpose(y,0,1)"
   ]
  },
  {
   "cell_type": "code",
   "execution_count": 16,
   "id": "01e7b308-635c-49de-9904-0a47ccaeb448",
   "metadata": {},
   "outputs": [
    {
     "data": {
      "text/plain": [
       "tensor([[ 0.0307,  0.5635],\n",
       "        [-1.4079, -0.8375],\n",
       "        [-0.8716,  0.6841]])"
      ]
     },
     "execution_count": 16,
     "metadata": {},
     "output_type": "execute_result"
    }
   ],
   "source": [
    "torch.transpose(y,1,0)"
   ]
  },
  {
   "cell_type": "code",
   "execution_count": 17,
   "id": "249a589a-bf38-43b0-a588-c533b4a254a0",
   "metadata": {},
   "outputs": [
    {
     "data": {
      "text/plain": [
       "tensor([[[[True, True, True, True],\n",
       "          [True, True, True, True],\n",
       "          [True, True, True, True],\n",
       "          ...,\n",
       "          [True, True, True, True],\n",
       "          [True, True, True, True],\n",
       "          [True, True, True, True]],\n",
       "\n",
       "         [[True, True, True, True],\n",
       "          [True, True, True, True],\n",
       "          [True, True, True, True],\n",
       "          ...,\n",
       "          [True, True, True, True],\n",
       "          [True, True, True, True],\n",
       "          [True, True, True, True]],\n",
       "\n",
       "         [[True, True, True, True],\n",
       "          [True, True, True, True],\n",
       "          [True, True, True, True],\n",
       "          ...,\n",
       "          [True, True, True, True],\n",
       "          [True, True, True, True],\n",
       "          [True, True, True, True]],\n",
       "\n",
       "         ...,\n",
       "\n",
       "         [[True, True, True, True],\n",
       "          [True, True, True, True],\n",
       "          [True, True, True, True],\n",
       "          ...,\n",
       "          [True, True, True, True],\n",
       "          [True, True, True, True],\n",
       "          [True, True, True, True]],\n",
       "\n",
       "         [[True, True, True, True],\n",
       "          [True, True, True, True],\n",
       "          [True, True, True, True],\n",
       "          ...,\n",
       "          [True, True, True, True],\n",
       "          [True, True, True, True],\n",
       "          [True, True, True, True]],\n",
       "\n",
       "         [[True, True, True, True],\n",
       "          [True, True, True, True],\n",
       "          [True, True, True, True],\n",
       "          ...,\n",
       "          [True, True, True, True],\n",
       "          [True, True, True, True],\n",
       "          [True, True, True, True]]]])"
      ]
     },
     "execution_count": 17,
     "metadata": {},
     "output_type": "execute_result"
    }
   ],
   "source": [
    "k.transpose(-1,-2)==k.transpose(-2,-1)"
   ]
  },
  {
   "cell_type": "markdown",
   "id": "1a782d48-722a-4bb3-b55a-1376d3915019",
   "metadata": {},
   "source": [
    "# applying masking in decoder "
   ]
  },
  {
   "cell_type": "code",
   "execution_count": 19,
   "id": "613f76c2-a78b-4fbd-a283-14848023a98a",
   "metadata": {},
   "outputs": [
    {
     "data": {
      "text/plain": [
       "tensor([[0., -inf, -inf, -inf],\n",
       "        [0., 0., -inf, -inf],\n",
       "        [0., 0., 0., -inf],\n",
       "        [0., 0., 0., 0.]])"
      ]
     },
     "execution_count": 19,
     "metadata": {},
     "output_type": "execute_result"
    }
   ],
   "source": [
    "mask=torch.full(scaled.size(),float('-inf'))\n",
    "mask=torch.triu(mask,diagonal=1)\n",
    "mask[0][1] # mask for input to a singal head"
   ]
  },
  {
   "cell_type": "code",
   "execution_count": 20,
   "id": "689cc101-119b-4c3d-babf-87a2f429cada",
   "metadata": {},
   "outputs": [
    {
     "data": {
      "text/plain": [
       "tensor([[-0.2099,    -inf,    -inf,    -inf],\n",
       "        [-0.3833, -0.5330,    -inf,    -inf],\n",
       "        [ 0.0624, -0.0831, -0.1685,    -inf],\n",
       "        [-0.1492, -0.3380, -0.4372, -0.1259]], grad_fn=<SelectBackward0>)"
      ]
     },
     "execution_count": 20,
     "metadata": {},
     "output_type": "execute_result"
    }
   ],
   "source": [
    "(scaled+mask)[0][0]"
   ]
  },
  {
   "cell_type": "code",
   "execution_count": 21,
   "id": "e19d414b-6e40-472f-86aa-e5f27c3a083a",
   "metadata": {},
   "outputs": [],
   "source": [
    "scaled+=mask"
   ]
  },
  {
   "cell_type": "code",
   "execution_count": 22,
   "id": "d6ff5a0f-b372-463d-a523-4701c6e00eeb",
   "metadata": {},
   "outputs": [
    {
     "data": {
      "text/plain": [
       "0.6269606805367254"
      ]
     },
     "execution_count": 22,
     "metadata": {},
     "output_type": "execute_result"
    }
   ],
   "source": [
    "np.exp(0.5596)/(np.exp(0.5596)+np.exp(0.0404))"
   ]
  },
  {
   "cell_type": "code",
   "execution_count": 28,
   "id": "bdcae0c2-1902-4ca3-8d05-cbac6658a9a2",
   "metadata": {},
   "outputs": [],
   "source": [
    "#Applying the softmax\n",
    "attention=F.softmax(scaled,dim=1)"
   ]
  },
  {
   "cell_type": "code",
   "execution_count": 24,
   "id": "245e281c-4960-4d14-b6f4-2c44db16f708",
   "metadata": {},
   "outputs": [
    {
     "data": {
      "text/plain": [
       "torch.Size([1, 8, 4, 4])"
      ]
     },
     "execution_count": 24,
     "metadata": {},
     "output_type": "execute_result"
    }
   ],
   "source": [
    "attention.shape"
   ]
  },
  {
   "cell_type": "code",
   "execution_count": 25,
   "id": "11641ec3-4b95-43e2-b28e-54af13d97ae2",
   "metadata": {},
   "outputs": [
    {
     "data": {
      "text/plain": [
       "tensor([[0.0835,    nan,    nan,    nan],\n",
       "        [0.0931, 0.0729,    nan,    nan],\n",
       "        [0.1743, 0.1032, 0.1140,    nan],\n",
       "        [0.1063, 0.0959, 0.0617, 0.0878]], grad_fn=<SelectBackward0>)"
      ]
     },
     "execution_count": 25,
     "metadata": {},
     "output_type": "execute_result"
    }
   ],
   "source": [
    "attention[0][0]"
   ]
  },
  {
   "cell_type": "code",
   "execution_count": 29,
   "id": "bcd67858-b36c-4e43-bfe5-a2e095654da0",
   "metadata": {},
   "outputs": [
    {
     "data": {
      "text/plain": [
       "torch.Size([1, 8, 4, 64])"
      ]
     },
     "execution_count": 29,
     "metadata": {},
     "output_type": "execute_result"
    }
   ],
   "source": [
    "values=torch.matmul(attention,v)\n",
    "values.shape"
   ]
  },
  {
   "cell_type": "code",
   "execution_count": 30,
   "id": "34c13596-0557-4b35-bacf-11280482fc98",
   "metadata": {},
   "outputs": [],
   "source": [
    "# Function :- whatever we done above , we build a fucntion for thhat task"
   ]
  },
  {
   "cell_type": "code",
   "execution_count": 31,
   "id": "bff85f84-9dbf-4446-a44e-10437f258929",
   "metadata": {},
   "outputs": [],
   "source": [
    "def scaled_dot_product(q,k,v,mask=None):\n",
    "    d_k=q.size()[-1]\n",
    "    scaled=torch.matmul(q,k.transpose(-1,-2))/math.sqrt(d_k)\n",
    "    if mask is not None:\n",
    "        scaled+=mask\n",
    "    attention=F.softmax(scaled,dim=1)\n",
    "    values=torch.matmul(attention,v)\n",
    "    return values,attention"
   ]
  },
  {
   "cell_type": "code",
   "execution_count": 32,
   "id": "bca67611-9e09-48b2-91d3-50dd0a250f94",
   "metadata": {},
   "outputs": [],
   "source": [
    "values,attention=scaled_dot_product(q,k,v,mask=None)"
   ]
  },
  {
   "cell_type": "code",
   "execution_count": 33,
   "id": "5c4638c0-fdad-404f-8590-f7bbcbb941c0",
   "metadata": {},
   "outputs": [
    {
     "data": {
      "text/plain": [
       "torch.Size([1, 8, 4, 4])"
      ]
     },
     "execution_count": 33,
     "metadata": {},
     "output_type": "execute_result"
    }
   ],
   "source": [
    "attention.shape"
   ]
  },
  {
   "cell_type": "code",
   "execution_count": 34,
   "id": "d3b8899e-2354-4450-9b8b-d6149adcbe35",
   "metadata": {},
   "outputs": [
    {
     "data": {
      "text/plain": [
       "tensor([[0.0835, 0.1212, 0.1839, 0.0989],\n",
       "        [0.0931, 0.0729, 0.1036, 0.1273],\n",
       "        [0.1743, 0.1032, 0.1140, 0.1180],\n",
       "        [0.1063, 0.0959, 0.0617, 0.0878]], grad_fn=<SelectBackward0>)"
      ]
     },
     "execution_count": 34,
     "metadata": {},
     "output_type": "execute_result"
    }
   ],
   "source": [
    "attention[0][0]"
   ]
  },
  {
   "cell_type": "code",
   "execution_count": 36,
   "id": "face5326-d6b6-46e8-8515-0ecd9a83e1ea",
   "metadata": {},
   "outputs": [
    {
     "data": {
      "text/plain": [
       "torch.Size([1, 8, 4, 64])"
      ]
     },
     "execution_count": 36,
     "metadata": {},
     "output_type": "execute_result"
    }
   ],
   "source": [
    "values.size()"
   ]
  },
  {
   "cell_type": "code",
   "execution_count": 40,
   "id": "01ce4be9-8c8e-444d-820f-5966abd48086",
   "metadata": {},
   "outputs": [],
   "source": [
    "values=values.reshape(batch_size,sequence_length,num_head*head_dim)"
   ]
  },
  {
   "cell_type": "code",
   "execution_count": 41,
   "id": "e2171a55-8ebd-4fee-ba8c-1d9548a63022",
   "metadata": {},
   "outputs": [
    {
     "data": {
      "text/plain": [
       "torch.Size([1, 4, 512])"
      ]
     },
     "execution_count": 41,
     "metadata": {},
     "output_type": "execute_result"
    }
   ],
   "source": [
    "values.size()"
   ]
  },
  {
   "cell_type": "code",
   "execution_count": 42,
   "id": "4e0a8720-be29-4497-9aac-891ad5b1fd54",
   "metadata": {},
   "outputs": [],
   "source": [
    "linear_layer = nn.Linear(d_model, d_model)"
   ]
  },
  {
   "cell_type": "code",
   "execution_count": 43,
   "id": "99ded0a9-1c93-48f1-994a-8f401f3a9b9b",
   "metadata": {},
   "outputs": [],
   "source": [
    "out = linear_layer(values)"
   ]
  },
  {
   "cell_type": "code",
   "execution_count": 44,
   "id": "b6fbccdb-70fe-44ab-a503-cc004f19721c",
   "metadata": {},
   "outputs": [
    {
     "data": {
      "text/plain": [
       "torch.Size([1, 4, 512])"
      ]
     },
     "execution_count": 44,
     "metadata": {},
     "output_type": "execute_result"
    }
   ],
   "source": [
    "out.shape"
   ]
  },
  {
   "cell_type": "code",
   "execution_count": 45,
   "id": "84117479-b4b5-4d4e-9123-0413e1db3bc8",
   "metadata": {},
   "outputs": [
    {
     "data": {
      "text/plain": [
       "torch.Size([1, 4, 512])"
      ]
     },
     "execution_count": 45,
     "metadata": {},
     "output_type": "execute_result"
    }
   ],
   "source": [
    "torch.Size([1, 4, 512])"
   ]
  },
  {
   "cell_type": "code",
   "execution_count": 46,
   "id": "0e224c1a-ac1d-45a5-8e6c-8bc0d0c7f003",
   "metadata": {},
   "outputs": [
    {
     "data": {
      "text/plain": [
       "tensor([[[-4.4459e-02, -7.4631e-02, -3.2726e-02,  ...,  7.2160e-02,\n",
       "          -1.0926e-01, -5.8359e-02],\n",
       "         [-3.9074e-02, -4.4827e-02,  7.6396e-03,  ...,  5.1896e-02,\n",
       "           7.9540e-02,  1.8148e-02],\n",
       "         [ 1.7580e-01,  4.2266e-02,  7.2121e-03,  ...,  9.1686e-02,\n",
       "          -1.1138e-01, -5.6070e-02],\n",
       "         [ 2.7691e-02, -1.2904e-01,  1.2023e-04,  ...,  2.0774e-01,\n",
       "          -9.6309e-02, -3.1254e-02]]], grad_fn=<ViewBackward0>)"
      ]
     },
     "execution_count": 46,
     "metadata": {},
     "output_type": "execute_result"
    }
   ],
   "source": [
    "out"
   ]
  },
  {
   "cell_type": "markdown",
   "id": "d5cb3fdd-bbc1-49c4-89a9-a35b242567ad",
   "metadata": {},
   "source": [
    "# \n",
    "Class"
   ]
  },
  {
   "cell_type": "code",
   "execution_count": 47,
   "id": "810c963a-fe1c-4b8e-b3d2-398f18b3b416",
   "metadata": {},
   "outputs": [],
   "source": [
    "def scaled_dot_product(q, k, v, mask=None):\n",
    "    d_k = q.size()[-1]\n",
    "    scaled = torch.matmul(q, k.transpose(-1, -2)) / math.sqrt(d_k)\n",
    "    if mask is not None:\n",
    "        scaled += mask\n",
    "    attention = F.softmax(scaled, dim=-1)\n",
    "    values = torch.matmul(attention, v)\n",
    "    return values, attention\n",
    "\n",
    "\n",
    "class MultiheadAttention(nn.Module):\n",
    "\n",
    "    def __init__(self, input_dim, d_model, num_heads):\n",
    "        super().__init__()\n",
    "        self.input_dim = input_dim\n",
    "        self.d_model = d_model\n",
    "        self.num_heads = num_heads\n",
    "        self.head_dim = d_model // num_heads\n",
    "        self.qkv_layer = nn.Linear(input_dim , 3 * d_model)\n",
    "        self.linear_layer = nn.Linear(d_model, d_model)\n",
    "    \n",
    "    def forward(self, x, mask=None):\n",
    "        batch_size, sequence_length, input_dim = x.size()\n",
    "        print(f\"x.size(): {x.size()}\")\n",
    "        qkv = self.qkv_layer(x)\n",
    "        print(f\"qkv.size(): {qkv.size()}\")\n",
    "        qkv = qkv.reshape(batch_size, sequence_length, self.num_heads, 3 * self.head_dim)\n",
    "        print(f\"qkv.size(): {qkv.size()}\")\n",
    "        qkv = qkv.permute(0, 2, 1, 3)\n",
    "        print(f\"qkv.size(): {qkv.size()}\")\n",
    "        q, k, v = qkv.chunk(3, dim=-1)\n",
    "        print(f\"q size: {q.size()}, k size: {k.size()}, v size: {v.size()}, \")\n",
    "        values, attention = scaled_dot_product(q, k, v, mask)\n",
    "        print(f\"values.size(): {values.size()}, attention.size:{ attention.size()} \")\n",
    "        values = values.reshape(batch_size, sequence_length, self.num_heads * self.head_dim)\n",
    "        print(f\"values.size(): {values.size()}\")\n",
    "        out = self.linear_layer(values)\n",
    "        print(f\"out.size(): {out.size()}\")\n",
    "        return out"
   ]
  },
  {
   "cell_type": "markdown",
   "id": "eab10051-b858-4db1-a4ea-31ed5f70aed8",
   "metadata": {},
   "source": [
    "# Input"
   ]
  },
  {
   "cell_type": "code",
   "execution_count": 48,
   "id": "34dc32e8-7ca5-4410-825b-bc18d767faee",
   "metadata": {},
   "outputs": [
    {
     "name": "stdout",
     "output_type": "stream",
     "text": [
      "x.size(): torch.Size([30, 5, 1024])\n",
      "qkv.size(): torch.Size([30, 5, 1536])\n",
      "qkv.size(): torch.Size([30, 5, 8, 192])\n",
      "qkv.size(): torch.Size([30, 8, 5, 192])\n",
      "q size: torch.Size([30, 8, 5, 64]), k size: torch.Size([30, 8, 5, 64]), v size: torch.Size([30, 8, 5, 64]), \n",
      "values.size(): torch.Size([30, 8, 5, 64]), attention.size:torch.Size([30, 8, 5, 5]) \n",
      "values.size(): torch.Size([30, 5, 512])\n",
      "out.size(): torch.Size([30, 5, 512])\n"
     ]
    }
   ],
   "source": [
    "input_dim = 1024\n",
    "d_model = 512\n",
    "num_heads = 8\n",
    "\n",
    "batch_size = 30\n",
    "sequence_length = 5\n",
    "x = torch.randn( (batch_size, sequence_length, input_dim) )\n",
    "\n",
    "model = MultiheadAttention(input_dim, d_model, num_heads)\n",
    "out = model.forward(x)"
   ]
  },
  {
   "cell_type": "code",
   "execution_count": null,
   "id": "50ba6b84-52a1-44b2-aeb8-8ed17af03e70",
   "metadata": {},
   "outputs": [],
   "source": []
  }
 ],
 "metadata": {
  "kernelspec": {
   "display_name": "Python 3 (ipykernel)",
   "language": "python",
   "name": "python3"
  },
  "language_info": {
   "codemirror_mode": {
    "name": "ipython",
    "version": 3
   },
   "file_extension": ".py",
   "mimetype": "text/x-python",
   "name": "python",
   "nbconvert_exporter": "python",
   "pygments_lexer": "ipython3",
   "version": "3.11.5"
  }
 },
 "nbformat": 4,
 "nbformat_minor": 5
}
